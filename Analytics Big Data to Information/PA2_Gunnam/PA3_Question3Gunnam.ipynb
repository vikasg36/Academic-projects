{
 "cells": [
  {
   "cell_type": "code",
   "execution_count": 1,
   "metadata": {},
   "outputs": [],
   "source": [
    "import pandas as pd\n",
    "import altair as alt"
   ]
  },
  {
   "cell_type": "code",
   "execution_count": 7,
   "metadata": {},
   "outputs": [
    {
     "data": {
      "text/plain": [
       "id                    int64\n",
       "State                object\n",
       "Total_Population      int64\n",
       "Avg_Income          float64\n",
       "Mean_Commute        float64\n",
       "dtype: object"
      ]
     },
     "execution_count": 7,
     "metadata": {},
     "output_type": "execute_result"
    }
   ],
   "source": [
    "df3 = pd.read_csv(\"input/us_popn_state_census.csv\")\n",
    "df3.dtypes"
   ]
  },
  {
   "cell_type": "code",
   "execution_count": 5,
   "metadata": {},
   "outputs": [
    {
     "data": {
      "text/html": [
       "\n",
       "<div id=\"altair-viz-d744155848134198888d5c7f01a82737\"></div>\n",
       "<script type=\"text/javascript\">\n",
       "  (function(spec, embedOpt){\n",
       "    let outputDiv = document.currentScript.previousElementSibling;\n",
       "    if (outputDiv.id !== \"altair-viz-d744155848134198888d5c7f01a82737\") {\n",
       "      outputDiv = document.getElementById(\"altair-viz-d744155848134198888d5c7f01a82737\");\n",
       "    }\n",
       "    const paths = {\n",
       "      \"vega\": \"https://cdn.jsdelivr.net/npm//vega@5?noext\",\n",
       "      \"vega-lib\": \"https://cdn.jsdelivr.net/npm//vega-lib?noext\",\n",
       "      \"vega-lite\": \"https://cdn.jsdelivr.net/npm//vega-lite@4.8.1?noext\",\n",
       "      \"vega-embed\": \"https://cdn.jsdelivr.net/npm//vega-embed@6?noext\",\n",
       "    };\n",
       "\n",
       "    function loadScript(lib) {\n",
       "      return new Promise(function(resolve, reject) {\n",
       "        var s = document.createElement('script');\n",
       "        s.src = paths[lib];\n",
       "        s.async = true;\n",
       "        s.onload = () => resolve(paths[lib]);\n",
       "        s.onerror = () => reject(`Error loading script: ${paths[lib]}`);\n",
       "        document.getElementsByTagName(\"head\")[0].appendChild(s);\n",
       "      });\n",
       "    }\n",
       "\n",
       "    function showError(err) {\n",
       "      outputDiv.innerHTML = `<div class=\"error\" style=\"color:red;\">${err}</div>`;\n",
       "      throw err;\n",
       "    }\n",
       "\n",
       "    function displayChart(vegaEmbed) {\n",
       "      vegaEmbed(outputDiv, spec, embedOpt)\n",
       "        .catch(err => showError(`Javascript Error: ${err.message}<br>This usually means there's a typo in your chart specification. See the javascript console for the full traceback.`));\n",
       "    }\n",
       "\n",
       "    if(typeof define === \"function\" && define.amd) {\n",
       "      requirejs.config({paths});\n",
       "      require([\"vega-embed\"], displayChart, err => showError(`Error loading script: ${err.message}`));\n",
       "    } else if (typeof vegaEmbed === \"function\") {\n",
       "      displayChart(vegaEmbed);\n",
       "    } else {\n",
       "      loadScript(\"vega\")\n",
       "        .then(() => loadScript(\"vega-lite\"))\n",
       "        .then(() => loadScript(\"vega-embed\"))\n",
       "        .catch(showError)\n",
       "        .then(() => displayChart(vegaEmbed));\n",
       "    }\n",
       "  })({\"config\": {\"view\": {\"continuousWidth\": 400, \"continuousHeight\": 300}}, \"repeat\": {\"row\": [\"Total_Population\", \"Avg_Income\", \"Mean_Commute\"]}, \"spec\": {\"data\": {\"url\": \"https://cdn.jsdelivr.net/npm/vega-datasets@v1.29.0/data/us-10m.json\", \"format\": {\"feature\": \"states\", \"type\": \"topojson\"}}, \"mark\": \"geoshape\", \"encoding\": {\"color\": {\"type\": \"quantitative\", \"field\": {\"repeat\": \"row\"}}}, \"height\": 300, \"projection\": {\"type\": \"albersUsa\"}, \"transform\": [{\"lookup\": \"id\", \"from\": {\"data\": {\"name\": \"data-48493c83f04def9cbbe17692f2c3f0bf\"}, \"key\": \"id\", \"fields\": [\"Total_Population\", \"Avg_Income\", \"Mean_Commute\"]}}], \"width\": 500}, \"resolve\": {\"scale\": {\"color\": \"independent\"}}, \"$schema\": \"https://vega.github.io/schema/vega-lite/v4.8.1.json\", \"datasets\": {\"data-48493c83f04def9cbbe17692f2c3f0bf\": [{\"id\": 1, \"State\": \"Alabama\", \"Total_Population\": 238877, \"Avg_Income\": 36474.50746, \"Mean_Commute\": 26.96567164}, {\"id\": 2, \"State\": \"Alaska\", \"Total_Population\": 84828, \"Avg_Income\": 58042.821429999996, \"Mean_Commute\": 11.07241379}, {\"id\": 3, \"State\": \"Arizona\", \"Total_Population\": 44487, \"Avg_Income\": 44742.66667, \"Mean_Commute\": 25.98}, {\"id\": 4, \"State\": \"Arkansas\", \"Total_Population\": 283070, \"Avg_Income\": 36792.41892, \"Mean_Commute\": 24.69594595}, {\"id\": 5, \"State\": \"California\", \"Total_Population\": 233308, \"Avg_Income\": 56564.473679999996, \"Mean_Commute\": 25.90175439}, {\"id\": 6, \"State\": \"Colorado\", \"Total_Population\": 216064, \"Avg_Income\": 49410.0625, \"Mean_Commute\": 21.60625}, {\"id\": 7, \"State\": \"Connecticut\", \"Total_Population\": 30743, \"Avg_Income\": 82361.125, \"Mean_Commute\": 27.725}, {\"id\": 8, \"State\": \"Delaware\", \"Total_Population\": 16683, \"Avg_Income\": 55305.666670000006, \"Mean_Commute\": 24.53333333}, {\"id\": 9, \"State\": \"District of Columbia\", \"Total_Population\": 5209, \"Avg_Income\": 175048.0, \"Mean_Commute\": 25.0}, {\"id\": 10, \"State\": \"Florida\", \"Total_Population\": 287029, \"Avg_Income\": 42183.567160000006, \"Mean_Commute\": 24.79850746}, {\"id\": 11, \"State\": \"Georgia\", \"Total_Population\": 678023, \"Avg_Income\": 43117.094339999996, \"Mean_Commute\": 26.74968553}, {\"id\": 12, \"State\": \"Hawaii\", \"Total_Population\": 21268, \"Avg_Income\": 64398.2, \"Mean_Commute\": 20.74}, {\"id\": 13, \"State\": \"Idaho\", \"Total_Population\": 179496, \"Avg_Income\": 43053.727269999996, \"Mean_Commute\": 22.09090909}, {\"id\": 14, \"State\": \"Illinois\", \"Total_Population\": 391993, \"Avg_Income\": 51405.98039, \"Mean_Commute\": 25.90588235}, {\"id\": 15, \"State\": \"Indiana\", \"Total_Population\": 415303, \"Avg_Income\": 49347.880430000005, \"Mean_Commute\": 25.73478261}, {\"id\": 16, \"State\": \"Iowa\", \"Total_Population\": 334596, \"Avg_Income\": 52277.363639999996, \"Mean_Commute\": 20.52727273}, {\"id\": 17, \"State\": \"Kansas\", \"Total_Population\": 323687, \"Avg_Income\": 48667.58654, \"Mean_Commute\": 18.91057692}, {\"id\": 18, \"State\": \"Kentucky\", \"Total_Population\": 410546, \"Avg_Income\": 37993.475, \"Mean_Commute\": 26.26583333}, {\"id\": 19, \"State\": \"Louisiana\", \"Total_Population\": 266821, \"Avg_Income\": 40838.73438, \"Mean_Commute\": 29.1078125}, {\"id\": 20, \"State\": \"Maine\", \"Total_Population\": 48007, \"Avg_Income\": 44177.1875, \"Mean_Commute\": 23.56875}, {\"id\": 21, \"State\": \"Maryland\", \"Total_Population\": 102821, \"Avg_Income\": 75785.75, \"Mean_Commute\": 30.78333333}, {\"id\": 22, \"State\": \"Massachusetts\", \"Total_Population\": 55794, \"Avg_Income\": 60521.571429999996, \"Mean_Commute\": 26.04285714}, {\"id\": 23, \"State\": \"Michigan\", \"Total_Population\": 268532, \"Avg_Income\": 43404.3494, \"Mean_Commute\": 24.34457831}, {\"id\": 24, \"State\": \"Minnesota\", \"Total_Population\": 317432, \"Avg_Income\": 55161.436779999996, \"Mean_Commute\": 22.29425287}, {\"id\": 25, \"State\": \"Mississippi\", \"Total_Population\": 387733, \"Avg_Income\": 36991.93902, \"Mean_Commute\": 27.46829268}, {\"id\": 26, \"State\": \"Missouri\", \"Total_Population\": 465526, \"Avg_Income\": 42713.173910000005, \"Mean_Commute\": 25.32521739}, {\"id\": 27, \"State\": \"Montana\", \"Total_Population\": 140541, \"Avg_Income\": 45771.839289999996, \"Mean_Commute\": 18.64107143}, {\"id\": 28, \"State\": \"Nebraska\", \"Total_Population\": 251111, \"Avg_Income\": 50355.26882, \"Mean_Commute\": 19.45376344}, {\"id\": 29, \"State\": \"Nevada\", \"Total_Population\": 66019, \"Avg_Income\": 53158.64706, \"Mean_Commute\": 21.26470588}, {\"id\": 30, \"State\": \"New Hampshire\", \"Total_Population\": 37811, \"Avg_Income\": 70615.5, \"Mean_Commute\": 24.8}, {\"id\": 31, \"State\": \"New Jersey\", \"Total_Population\": 92621, \"Avg_Income\": 68885.85714, \"Mean_Commute\": 27.42380952}, {\"id\": 32, \"State\": \"New Mexico\", \"Total_Population\": 110875, \"Avg_Income\": 39200.363639999996, \"Mean_Commute\": 20.0969697}, {\"id\": 33, \"State\": \"New York\", \"Total_Population\": 219006, \"Avg_Income\": 55361.05085, \"Mean_Commute\": 25.14067797}, {\"id\": 34, \"State\": \"North Carolina\", \"Total_Population\": 451108, \"Avg_Income\": 40819.19, \"Mean_Commute\": 25.544}, {\"id\": 35, \"State\": \"North Dakota\", \"Total_Population\": 129583, \"Avg_Income\": 54017.28302, \"Mean_Commute\": 18.50943396}, {\"id\": 36, \"State\": \"Ohio\", \"Total_Population\": 346395, \"Avg_Income\": 46814.897730000004, \"Mean_Commute\": 25.44886364}, {\"id\": 37, \"State\": \"Oklahoma\", \"Total_Population\": 260160, \"Avg_Income\": 41835.311689999995, \"Mean_Commute\": 22.11558442}, {\"id\": 38, \"State\": \"Oregon\", \"Total_Population\": 141282, \"Avg_Income\": 46977.714289999996, \"Mean_Commute\": 21.41714286}, {\"id\": 39, \"State\": \"Pennsylvania\", \"Total_Population\": 246572, \"Avg_Income\": 46246.85075, \"Mean_Commute\": 24.85970149}, {\"id\": 40, \"State\": \"Puerto Rico\", \"Total_Population\": 372368, \"Avg_Income\": 18210.07792, \"Mean_Commute\": 28.64415584}, {\"id\": 41, \"State\": \"Rhode Island\", \"Total_Population\": 22172, \"Avg_Income\": 67266.0, \"Mean_Commute\": 20.68}, {\"id\": 42, \"State\": \"South Carolina\", \"Total_Population\": 163190, \"Avg_Income\": 37991.47826, \"Mean_Commute\": 27.67608696}, {\"id\": 43, \"State\": \"South Dakota\", \"Total_Population\": 196831, \"Avg_Income\": 48811.09091, \"Mean_Commute\": 17.14848485}, {\"id\": 44, \"State\": \"Tennessee\", \"Total_Population\": 379690, \"Avg_Income\": 39910.284210000005, \"Mean_Commute\": 28.37894737}, {\"id\": 45, \"State\": \"Texas\", \"Total_Population\": 984088, \"Avg_Income\": 47811.89723, \"Mean_Commute\": 23.348818899999998}, {\"id\": 46, \"State\": \"Utah\", \"Total_Population\": 124934, \"Avg_Income\": 52978.448280000004, \"Mean_Commute\": 21.04482759}, {\"id\": 47, \"State\": \"Vermont\", \"Total_Population\": 46636, \"Avg_Income\": 56167.071429999996, \"Mean_Commute\": 25.97142857}, {\"id\": 48, \"State\": \"Virginia\", \"Total_Population\": 618310, \"Avg_Income\": 54370.053029999995, \"Mean_Commute\": 27.83609023}, {\"id\": 49, \"State\": \"Washington\", \"Total_Population\": 154080, \"Avg_Income\": 48358.02564, \"Mean_Commute\": 22.48974359}, {\"id\": 50, \"State\": \"West Virginia\", \"Total_Population\": 207770, \"Avg_Income\": 38010.87273, \"Mean_Commute\": 28.55272727}, {\"id\": 51, \"State\": \"Wisconsin\", \"Total_Population\": 254440, \"Avg_Income\": 47221.513889999995, \"Mean_Commute\": 22.79305556}, {\"id\": 52, \"State\": \"Wyoming\", \"Total_Population\": 94510, \"Avg_Income\": 58472.434779999996, \"Mean_Commute\": 21.99130435}]}}, {\"mode\": \"vega-lite\"});\n",
       "</script>"
      ],
      "text/plain": [
       "alt.RepeatChart(...)"
      ]
     },
     "execution_count": 5,
     "metadata": {},
     "output_type": "execute_result"
    }
   ],
   "source": [
    "import altair as alt\n",
    "from vega_datasets import data\n",
    "\n",
    "states = alt.topo_feature(data.us_10m.url, 'states')\n",
    "\n",
    "variable_list = ['Total_Population', 'Avg_Income', 'Mean_Commute']\n",
    "\n",
    "alt.Chart(states).mark_geoshape().encode(\n",
    "    alt.Color(alt.repeat('row'), type='quantitative')\n",
    ").transform_lookup(\n",
    "    lookup='id',\n",
    "    from_=alt.LookupData(df3, 'id', variable_list)\n",
    ").properties(\n",
    "    width=500,\n",
    "    height=300\n",
    ").project(\n",
    "    type='albersUsa'\n",
    ").repeat(\n",
    "    row=variable_list\n",
    ").resolve_scale(\n",
    "    color='independent'\n",
    ")"
   ]
  }
 ],
 "metadata": {
  "kernelspec": {
   "display_name": "Python 3",
   "language": "python",
   "name": "python3"
  },
  "language_info": {
   "codemirror_mode": {
    "name": "ipython",
    "version": 3
   },
   "file_extension": ".py",
   "mimetype": "text/x-python",
   "name": "python",
   "nbconvert_exporter": "python",
   "pygments_lexer": "ipython3",
   "version": "3.7.1"
  }
 },
 "nbformat": 4,
 "nbformat_minor": 2
}
